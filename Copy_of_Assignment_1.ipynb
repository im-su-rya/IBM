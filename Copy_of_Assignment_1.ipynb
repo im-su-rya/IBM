{
  "nbformat": 4,
  "nbformat_minor": 0,
  "metadata": {
    "colab": {
      "provenance": [],
      "collapsed_sections": []
    },
    "kernelspec": {
      "name": "python3",
      "display_name": "Python 3"
    },
    "language_info": {
      "name": "python"
    }
  },
  "cells": [
    {
      "cell_type": "markdown",
      "source": [
        "# Basic Python"
      ],
      "metadata": {
        "id": "McSxJAwcOdZ1"
      }
    },
    {
      "cell_type": "markdown",
      "source": [
        "## 1. Split this string"
      ],
      "metadata": {
        "id": "CU48hgo4Owz5"
      }
    },
    {
      "cell_type": "code",
      "source": [
        "s = \"Hi there Sam!\""
      ],
      "metadata": {
        "id": "s07c7JK7Oqt-"
      },
      "execution_count": null,
      "outputs": []
    },
    {
      "cell_type": "code",
      "source": [
        "print(s.split())"
      ],
      "metadata": {
        "id": "6mGVa3SQYLkb",
        "colab": {
          "base_uri": "https://localhost:8080/"
        },
        "outputId": "b9f9c8df-af1d-4601-ad97-79bd6f6e845e"
      },
      "execution_count": null,
      "outputs": [
        {
          "output_type": "stream",
          "name": "stdout",
          "text": [
            "['Hi', 'there', 'Sam!']\n"
          ]
        }
      ]
    },
    {
      "cell_type": "markdown",
      "source": [
        "## 2. Use .format() to print the following string. \n",
        "\n",
        "### Output should be: The diameter of Earth is 12742 kilometers."
      ],
      "metadata": {
        "id": "GH1QBn8HP375"
      }
    },
    {
      "cell_type": "code",
      "source": [
        "planet = \"Earth\"\n",
        "diameter = 12742"
      ],
      "metadata": {
        "id": "_ZHoml3kPqic"
      },
      "execution_count": null,
      "outputs": []
    },
    {
      "cell_type": "code",
      "source": [
        "print( 'The diameter of {} is {} kilometers.' .format(planet,diameter));"
      ],
      "metadata": {
        "id": "HyRyJv6CYPb4",
        "colab": {
          "base_uri": "https://localhost:8080/"
        },
        "outputId": "2c861bb5-4cad-4b45-e416-1e154b1580c2"
      },
      "execution_count": null,
      "outputs": [
        {
          "output_type": "stream",
          "name": "stdout",
          "text": [
            "The diameter of Earth is 12742 kilometers.\n"
          ]
        }
      ]
    },
    {
      "cell_type": "markdown",
      "source": [
        "## 3. In this nest dictionary grab the word \"hello\""
      ],
      "metadata": {
        "id": "KE74ZEwkRExZ"
      }
    },
    {
      "cell_type": "code",
      "source": [
        "d = {'k1':[1,2,3,{'tricky':['oh','man','inception',{'target':[1,2,3,'hello']}]}]}"
      ],
      "metadata": {
        "id": "fcVwbCc1QrQI"
      },
      "execution_count": null,
      "outputs": []
    },
    {
      "cell_type": "code",
      "source": [
        "d['k1'][3]['tricky'][3]['target'][3]"
      ],
      "metadata": {
        "id": "MvbkMZpXYRaw",
        "colab": {
          "base_uri": "https://localhost:8080/",
          "height": 35
        },
        "outputId": "5358436c-0f07-4fef-f678-1b7fd6391d21"
      },
      "execution_count": null,
      "outputs": [
        {
          "output_type": "execute_result",
          "data": {
            "text/plain": [
              "'hello'"
            ],
            "application/vnd.google.colaboratory.intrinsic+json": {
              "type": "string"
            }
          },
          "metadata": {},
          "execution_count": 6
        }
      ]
    },
    {
      "cell_type": "markdown",
      "source": [
        "# Numpy"
      ],
      "metadata": {
        "id": "bw0vVp-9ddjv"
      }
    },
    {
      "cell_type": "code",
      "source": [
        "import numpy as np"
      ],
      "metadata": {
        "id": "LLiE_TYrhA1O"
      },
      "execution_count": null,
      "outputs": []
    },
    {
      "cell_type": "markdown",
      "source": [
        "## 4.1 Create an array of 10 zeros? \n",
        "## 4.2 Create an array of 10 fives?"
      ],
      "metadata": {
        "id": "wOg8hinbgx30"
      }
    },
    {
      "cell_type": "code",
      "source": [
        "array=np.zeros(10)\n",
        "print(\"An array of 10 zeros:\")\n",
        "print(array)"
      ],
      "metadata": {
        "id": "NHrirmgCYXvU",
        "colab": {
          "base_uri": "https://localhost:8080/"
        },
        "outputId": "4519b7bb-210b-4b53-cc80-e28a45567315"
      },
      "execution_count": null,
      "outputs": [
        {
          "output_type": "stream",
          "name": "stdout",
          "text": [
            "An array of 10 zeros:\n",
            "[0. 0. 0. 0. 0. 0. 0. 0. 0. 0.]\n"
          ]
        }
      ]
    },
    {
      "cell_type": "code",
      "source": [
        "array=np.ones(10)*5\n",
        "print(\"An array of 10 fives:\")\n",
        "print(array)"
      ],
      "metadata": {
        "id": "e4005lsTYXxx",
        "colab": {
          "base_uri": "https://localhost:8080/"
        },
        "outputId": "6607e1e7-79ff-4e2d-e6a0-1d834fa84f95"
      },
      "execution_count": null,
      "outputs": [
        {
          "output_type": "stream",
          "name": "stdout",
          "text": [
            "An array of 10 fives:\n",
            "[5. 5. 5. 5. 5. 5. 5. 5. 5. 5.]\n"
          ]
        }
      ]
    },
    {
      "cell_type": "markdown",
      "source": [
        "## 5. Create an array of all the even integers from 20 to 35"
      ],
      "metadata": {
        "id": "gZHHDUBvrMX4"
      }
    },
    {
      "cell_type": "code",
      "source": [
        "array=np.arange(20,35,2)\n",
        "print(\"Array of all the even integers from 20 to 35\")\n",
        "print(array) "
      ],
      "metadata": {
        "id": "oAI2tbU2Yag-",
        "colab": {
          "base_uri": "https://localhost:8080/"
        },
        "outputId": "53afae0e-ca10-404f-9ff4-39d12b056556"
      },
      "execution_count": null,
      "outputs": [
        {
          "output_type": "stream",
          "name": "stdout",
          "text": [
            "Array of all the even integers from 20 to 35\n",
            "[20 22 24 26 28 30 32 34]\n"
          ]
        }
      ]
    },
    {
      "cell_type": "markdown",
      "source": [
        "## 6. Create a 3x3 matrix with values ranging from 0 to 8"
      ],
      "metadata": {
        "id": "NaOM308NsRpZ"
      }
    },
    {
      "cell_type": "code",
      "source": [
        "Z = np.arange(9).reshape(3,3)\n",
        "print(Z)"
      ],
      "metadata": {
        "id": "tOlEVH7BYceE",
        "colab": {
          "base_uri": "https://localhost:8080/"
        },
        "outputId": "337fad69-1d60-469f-eea5-5201e526ec91"
      },
      "execution_count": null,
      "outputs": [
        {
          "output_type": "stream",
          "name": "stdout",
          "text": [
            "[[0 1 2]\n",
            " [3 4 5]\n",
            " [6 7 8]]\n"
          ]
        }
      ]
    },
    {
      "cell_type": "markdown",
      "source": [
        "## 7. Concatinate a and b \n",
        "## a = np.array([1, 2, 3]), b = np.array([4, 5, 6])"
      ],
      "metadata": {
        "id": "hQ0dnhAQuU_p"
      }
    },
    {
      "cell_type": "code",
      "source": [
        "a = np.array([1, 2, 3])\n",
        "b = np.array([4, 5, 6])\n",
        "np.stack((a, b))"
      ],
      "metadata": {
        "id": "rAPSw97aYfE0",
        "colab": {
          "base_uri": "https://localhost:8080/"
        },
        "outputId": "f47326db-9969-4869-9117-e5962ef1fc53"
      },
      "execution_count": null,
      "outputs": [
        {
          "output_type": "execute_result",
          "data": {
            "text/plain": [
              "array([[1, 2, 3],\n",
              "       [4, 5, 6]])"
            ]
          },
          "metadata": {},
          "execution_count": 13
        }
      ]
    },
    {
      "cell_type": "markdown",
      "source": [
        "# Pandas"
      ],
      "metadata": {
        "id": "dlPEY9DRwZga"
      }
    },
    {
      "cell_type": "markdown",
      "source": [
        "## 8. Create a dataframe with 3 rows and 2 columns"
      ],
      "metadata": {
        "id": "ijoYW51zwr87"
      }
    },
    {
      "cell_type": "code",
      "source": [
        "import pandas as pd\n"
      ],
      "metadata": {
        "id": "T5OxJRZ8uvR7"
      },
      "execution_count": null,
      "outputs": []
    },
    {
      "cell_type": "code",
      "source": [
        "data = [['Ryan Gosling', 20], ['Chris Evans', 21], ['Robert Downey Jr', 18]]\n",
        "df = pd.DataFrame(data, columns=['Name', 'Age'])\n",
        "print(df)"
      ],
      "metadata": {
        "id": "xNpI_XXoYhs0",
        "colab": {
          "base_uri": "https://localhost:8080/"
        },
        "outputId": "496708fd-318c-4ad9-ff84-7d1785f6214f"
      },
      "execution_count": null,
      "outputs": [
        {
          "output_type": "stream",
          "name": "stdout",
          "text": [
            "               Name  Age\n",
            "0      Ryan Gosling   20\n",
            "1       Chris Evans   21\n",
            "2  Robert Downey Jr   18\n"
          ]
        }
      ]
    },
    {
      "cell_type": "markdown",
      "source": [
        "## 9. Generate the series of dates from 1st Jan, 2023 to 10th Feb, 2023"
      ],
      "metadata": {
        "id": "UXSmdNclyJQD"
      }
    },
    {
      "cell_type": "code",
      "source": [
        "from datetime import datetime\n",
        "pd.date_range(start=\"2023-01-01\",end=\"2023-10-02\").to_pydatetime().tolist()"
      ],
      "metadata": {
        "id": "dgyC0JhVYl4F",
        "colab": {
          "base_uri": "https://localhost:8080/"
        },
        "outputId": "f4ba5bbb-40f1-4c06-bb1b-3eaa50c0c317"
      },
      "execution_count": null,
      "outputs": [
        {
          "output_type": "execute_result",
          "data": {
            "text/plain": [
              "[datetime.datetime(2023, 1, 1, 0, 0),\n",
              " datetime.datetime(2023, 1, 2, 0, 0),\n",
              " datetime.datetime(2023, 1, 3, 0, 0),\n",
              " datetime.datetime(2023, 1, 4, 0, 0),\n",
              " datetime.datetime(2023, 1, 5, 0, 0),\n",
              " datetime.datetime(2023, 1, 6, 0, 0),\n",
              " datetime.datetime(2023, 1, 7, 0, 0),\n",
              " datetime.datetime(2023, 1, 8, 0, 0),\n",
              " datetime.datetime(2023, 1, 9, 0, 0),\n",
              " datetime.datetime(2023, 1, 10, 0, 0),\n",
              " datetime.datetime(2023, 1, 11, 0, 0),\n",
              " datetime.datetime(2023, 1, 12, 0, 0),\n",
              " datetime.datetime(2023, 1, 13, 0, 0),\n",
              " datetime.datetime(2023, 1, 14, 0, 0),\n",
              " datetime.datetime(2023, 1, 15, 0, 0),\n",
              " datetime.datetime(2023, 1, 16, 0, 0),\n",
              " datetime.datetime(2023, 1, 17, 0, 0),\n",
              " datetime.datetime(2023, 1, 18, 0, 0),\n",
              " datetime.datetime(2023, 1, 19, 0, 0),\n",
              " datetime.datetime(2023, 1, 20, 0, 0),\n",
              " datetime.datetime(2023, 1, 21, 0, 0),\n",
              " datetime.datetime(2023, 1, 22, 0, 0),\n",
              " datetime.datetime(2023, 1, 23, 0, 0),\n",
              " datetime.datetime(2023, 1, 24, 0, 0),\n",
              " datetime.datetime(2023, 1, 25, 0, 0),\n",
              " datetime.datetime(2023, 1, 26, 0, 0),\n",
              " datetime.datetime(2023, 1, 27, 0, 0),\n",
              " datetime.datetime(2023, 1, 28, 0, 0),\n",
              " datetime.datetime(2023, 1, 29, 0, 0),\n",
              " datetime.datetime(2023, 1, 30, 0, 0),\n",
              " datetime.datetime(2023, 1, 31, 0, 0),\n",
              " datetime.datetime(2023, 2, 1, 0, 0),\n",
              " datetime.datetime(2023, 2, 2, 0, 0),\n",
              " datetime.datetime(2023, 2, 3, 0, 0),\n",
              " datetime.datetime(2023, 2, 4, 0, 0),\n",
              " datetime.datetime(2023, 2, 5, 0, 0),\n",
              " datetime.datetime(2023, 2, 6, 0, 0),\n",
              " datetime.datetime(2023, 2, 7, 0, 0),\n",
              " datetime.datetime(2023, 2, 8, 0, 0),\n",
              " datetime.datetime(2023, 2, 9, 0, 0),\n",
              " datetime.datetime(2023, 2, 10, 0, 0),\n",
              " datetime.datetime(2023, 2, 11, 0, 0),\n",
              " datetime.datetime(2023, 2, 12, 0, 0),\n",
              " datetime.datetime(2023, 2, 13, 0, 0),\n",
              " datetime.datetime(2023, 2, 14, 0, 0),\n",
              " datetime.datetime(2023, 2, 15, 0, 0),\n",
              " datetime.datetime(2023, 2, 16, 0, 0),\n",
              " datetime.datetime(2023, 2, 17, 0, 0),\n",
              " datetime.datetime(2023, 2, 18, 0, 0),\n",
              " datetime.datetime(2023, 2, 19, 0, 0),\n",
              " datetime.datetime(2023, 2, 20, 0, 0),\n",
              " datetime.datetime(2023, 2, 21, 0, 0),\n",
              " datetime.datetime(2023, 2, 22, 0, 0),\n",
              " datetime.datetime(2023, 2, 23, 0, 0),\n",
              " datetime.datetime(2023, 2, 24, 0, 0),\n",
              " datetime.datetime(2023, 2, 25, 0, 0),\n",
              " datetime.datetime(2023, 2, 26, 0, 0),\n",
              " datetime.datetime(2023, 2, 27, 0, 0),\n",
              " datetime.datetime(2023, 2, 28, 0, 0),\n",
              " datetime.datetime(2023, 3, 1, 0, 0),\n",
              " datetime.datetime(2023, 3, 2, 0, 0),\n",
              " datetime.datetime(2023, 3, 3, 0, 0),\n",
              " datetime.datetime(2023, 3, 4, 0, 0),\n",
              " datetime.datetime(2023, 3, 5, 0, 0),\n",
              " datetime.datetime(2023, 3, 6, 0, 0),\n",
              " datetime.datetime(2023, 3, 7, 0, 0),\n",
              " datetime.datetime(2023, 3, 8, 0, 0),\n",
              " datetime.datetime(2023, 3, 9, 0, 0),\n",
              " datetime.datetime(2023, 3, 10, 0, 0),\n",
              " datetime.datetime(2023, 3, 11, 0, 0),\n",
              " datetime.datetime(2023, 3, 12, 0, 0),\n",
              " datetime.datetime(2023, 3, 13, 0, 0),\n",
              " datetime.datetime(2023, 3, 14, 0, 0),\n",
              " datetime.datetime(2023, 3, 15, 0, 0),\n",
              " datetime.datetime(2023, 3, 16, 0, 0),\n",
              " datetime.datetime(2023, 3, 17, 0, 0),\n",
              " datetime.datetime(2023, 3, 18, 0, 0),\n",
              " datetime.datetime(2023, 3, 19, 0, 0),\n",
              " datetime.datetime(2023, 3, 20, 0, 0),\n",
              " datetime.datetime(2023, 3, 21, 0, 0),\n",
              " datetime.datetime(2023, 3, 22, 0, 0),\n",
              " datetime.datetime(2023, 3, 23, 0, 0),\n",
              " datetime.datetime(2023, 3, 24, 0, 0),\n",
              " datetime.datetime(2023, 3, 25, 0, 0),\n",
              " datetime.datetime(2023, 3, 26, 0, 0),\n",
              " datetime.datetime(2023, 3, 27, 0, 0),\n",
              " datetime.datetime(2023, 3, 28, 0, 0),\n",
              " datetime.datetime(2023, 3, 29, 0, 0),\n",
              " datetime.datetime(2023, 3, 30, 0, 0),\n",
              " datetime.datetime(2023, 3, 31, 0, 0),\n",
              " datetime.datetime(2023, 4, 1, 0, 0),\n",
              " datetime.datetime(2023, 4, 2, 0, 0),\n",
              " datetime.datetime(2023, 4, 3, 0, 0),\n",
              " datetime.datetime(2023, 4, 4, 0, 0),\n",
              " datetime.datetime(2023, 4, 5, 0, 0),\n",
              " datetime.datetime(2023, 4, 6, 0, 0),\n",
              " datetime.datetime(2023, 4, 7, 0, 0),\n",
              " datetime.datetime(2023, 4, 8, 0, 0),\n",
              " datetime.datetime(2023, 4, 9, 0, 0),\n",
              " datetime.datetime(2023, 4, 10, 0, 0),\n",
              " datetime.datetime(2023, 4, 11, 0, 0),\n",
              " datetime.datetime(2023, 4, 12, 0, 0),\n",
              " datetime.datetime(2023, 4, 13, 0, 0),\n",
              " datetime.datetime(2023, 4, 14, 0, 0),\n",
              " datetime.datetime(2023, 4, 15, 0, 0),\n",
              " datetime.datetime(2023, 4, 16, 0, 0),\n",
              " datetime.datetime(2023, 4, 17, 0, 0),\n",
              " datetime.datetime(2023, 4, 18, 0, 0),\n",
              " datetime.datetime(2023, 4, 19, 0, 0),\n",
              " datetime.datetime(2023, 4, 20, 0, 0),\n",
              " datetime.datetime(2023, 4, 21, 0, 0),\n",
              " datetime.datetime(2023, 4, 22, 0, 0),\n",
              " datetime.datetime(2023, 4, 23, 0, 0),\n",
              " datetime.datetime(2023, 4, 24, 0, 0),\n",
              " datetime.datetime(2023, 4, 25, 0, 0),\n",
              " datetime.datetime(2023, 4, 26, 0, 0),\n",
              " datetime.datetime(2023, 4, 27, 0, 0),\n",
              " datetime.datetime(2023, 4, 28, 0, 0),\n",
              " datetime.datetime(2023, 4, 29, 0, 0),\n",
              " datetime.datetime(2023, 4, 30, 0, 0),\n",
              " datetime.datetime(2023, 5, 1, 0, 0),\n",
              " datetime.datetime(2023, 5, 2, 0, 0),\n",
              " datetime.datetime(2023, 5, 3, 0, 0),\n",
              " datetime.datetime(2023, 5, 4, 0, 0),\n",
              " datetime.datetime(2023, 5, 5, 0, 0),\n",
              " datetime.datetime(2023, 5, 6, 0, 0),\n",
              " datetime.datetime(2023, 5, 7, 0, 0),\n",
              " datetime.datetime(2023, 5, 8, 0, 0),\n",
              " datetime.datetime(2023, 5, 9, 0, 0),\n",
              " datetime.datetime(2023, 5, 10, 0, 0),\n",
              " datetime.datetime(2023, 5, 11, 0, 0),\n",
              " datetime.datetime(2023, 5, 12, 0, 0),\n",
              " datetime.datetime(2023, 5, 13, 0, 0),\n",
              " datetime.datetime(2023, 5, 14, 0, 0),\n",
              " datetime.datetime(2023, 5, 15, 0, 0),\n",
              " datetime.datetime(2023, 5, 16, 0, 0),\n",
              " datetime.datetime(2023, 5, 17, 0, 0),\n",
              " datetime.datetime(2023, 5, 18, 0, 0),\n",
              " datetime.datetime(2023, 5, 19, 0, 0),\n",
              " datetime.datetime(2023, 5, 20, 0, 0),\n",
              " datetime.datetime(2023, 5, 21, 0, 0),\n",
              " datetime.datetime(2023, 5, 22, 0, 0),\n",
              " datetime.datetime(2023, 5, 23, 0, 0),\n",
              " datetime.datetime(2023, 5, 24, 0, 0),\n",
              " datetime.datetime(2023, 5, 25, 0, 0),\n",
              " datetime.datetime(2023, 5, 26, 0, 0),\n",
              " datetime.datetime(2023, 5, 27, 0, 0),\n",
              " datetime.datetime(2023, 5, 28, 0, 0),\n",
              " datetime.datetime(2023, 5, 29, 0, 0),\n",
              " datetime.datetime(2023, 5, 30, 0, 0),\n",
              " datetime.datetime(2023, 5, 31, 0, 0),\n",
              " datetime.datetime(2023, 6, 1, 0, 0),\n",
              " datetime.datetime(2023, 6, 2, 0, 0),\n",
              " datetime.datetime(2023, 6, 3, 0, 0),\n",
              " datetime.datetime(2023, 6, 4, 0, 0),\n",
              " datetime.datetime(2023, 6, 5, 0, 0),\n",
              " datetime.datetime(2023, 6, 6, 0, 0),\n",
              " datetime.datetime(2023, 6, 7, 0, 0),\n",
              " datetime.datetime(2023, 6, 8, 0, 0),\n",
              " datetime.datetime(2023, 6, 9, 0, 0),\n",
              " datetime.datetime(2023, 6, 10, 0, 0),\n",
              " datetime.datetime(2023, 6, 11, 0, 0),\n",
              " datetime.datetime(2023, 6, 12, 0, 0),\n",
              " datetime.datetime(2023, 6, 13, 0, 0),\n",
              " datetime.datetime(2023, 6, 14, 0, 0),\n",
              " datetime.datetime(2023, 6, 15, 0, 0),\n",
              " datetime.datetime(2023, 6, 16, 0, 0),\n",
              " datetime.datetime(2023, 6, 17, 0, 0),\n",
              " datetime.datetime(2023, 6, 18, 0, 0),\n",
              " datetime.datetime(2023, 6, 19, 0, 0),\n",
              " datetime.datetime(2023, 6, 20, 0, 0),\n",
              " datetime.datetime(2023, 6, 21, 0, 0),\n",
              " datetime.datetime(2023, 6, 22, 0, 0),\n",
              " datetime.datetime(2023, 6, 23, 0, 0),\n",
              " datetime.datetime(2023, 6, 24, 0, 0),\n",
              " datetime.datetime(2023, 6, 25, 0, 0),\n",
              " datetime.datetime(2023, 6, 26, 0, 0),\n",
              " datetime.datetime(2023, 6, 27, 0, 0),\n",
              " datetime.datetime(2023, 6, 28, 0, 0),\n",
              " datetime.datetime(2023, 6, 29, 0, 0),\n",
              " datetime.datetime(2023, 6, 30, 0, 0),\n",
              " datetime.datetime(2023, 7, 1, 0, 0),\n",
              " datetime.datetime(2023, 7, 2, 0, 0),\n",
              " datetime.datetime(2023, 7, 3, 0, 0),\n",
              " datetime.datetime(2023, 7, 4, 0, 0),\n",
              " datetime.datetime(2023, 7, 5, 0, 0),\n",
              " datetime.datetime(2023, 7, 6, 0, 0),\n",
              " datetime.datetime(2023, 7, 7, 0, 0),\n",
              " datetime.datetime(2023, 7, 8, 0, 0),\n",
              " datetime.datetime(2023, 7, 9, 0, 0),\n",
              " datetime.datetime(2023, 7, 10, 0, 0),\n",
              " datetime.datetime(2023, 7, 11, 0, 0),\n",
              " datetime.datetime(2023, 7, 12, 0, 0),\n",
              " datetime.datetime(2023, 7, 13, 0, 0),\n",
              " datetime.datetime(2023, 7, 14, 0, 0),\n",
              " datetime.datetime(2023, 7, 15, 0, 0),\n",
              " datetime.datetime(2023, 7, 16, 0, 0),\n",
              " datetime.datetime(2023, 7, 17, 0, 0),\n",
              " datetime.datetime(2023, 7, 18, 0, 0),\n",
              " datetime.datetime(2023, 7, 19, 0, 0),\n",
              " datetime.datetime(2023, 7, 20, 0, 0),\n",
              " datetime.datetime(2023, 7, 21, 0, 0),\n",
              " datetime.datetime(2023, 7, 22, 0, 0),\n",
              " datetime.datetime(2023, 7, 23, 0, 0),\n",
              " datetime.datetime(2023, 7, 24, 0, 0),\n",
              " datetime.datetime(2023, 7, 25, 0, 0),\n",
              " datetime.datetime(2023, 7, 26, 0, 0),\n",
              " datetime.datetime(2023, 7, 27, 0, 0),\n",
              " datetime.datetime(2023, 7, 28, 0, 0),\n",
              " datetime.datetime(2023, 7, 29, 0, 0),\n",
              " datetime.datetime(2023, 7, 30, 0, 0),\n",
              " datetime.datetime(2023, 7, 31, 0, 0),\n",
              " datetime.datetime(2023, 8, 1, 0, 0),\n",
              " datetime.datetime(2023, 8, 2, 0, 0),\n",
              " datetime.datetime(2023, 8, 3, 0, 0),\n",
              " datetime.datetime(2023, 8, 4, 0, 0),\n",
              " datetime.datetime(2023, 8, 5, 0, 0),\n",
              " datetime.datetime(2023, 8, 6, 0, 0),\n",
              " datetime.datetime(2023, 8, 7, 0, 0),\n",
              " datetime.datetime(2023, 8, 8, 0, 0),\n",
              " datetime.datetime(2023, 8, 9, 0, 0),\n",
              " datetime.datetime(2023, 8, 10, 0, 0),\n",
              " datetime.datetime(2023, 8, 11, 0, 0),\n",
              " datetime.datetime(2023, 8, 12, 0, 0),\n",
              " datetime.datetime(2023, 8, 13, 0, 0),\n",
              " datetime.datetime(2023, 8, 14, 0, 0),\n",
              " datetime.datetime(2023, 8, 15, 0, 0),\n",
              " datetime.datetime(2023, 8, 16, 0, 0),\n",
              " datetime.datetime(2023, 8, 17, 0, 0),\n",
              " datetime.datetime(2023, 8, 18, 0, 0),\n",
              " datetime.datetime(2023, 8, 19, 0, 0),\n",
              " datetime.datetime(2023, 8, 20, 0, 0),\n",
              " datetime.datetime(2023, 8, 21, 0, 0),\n",
              " datetime.datetime(2023, 8, 22, 0, 0),\n",
              " datetime.datetime(2023, 8, 23, 0, 0),\n",
              " datetime.datetime(2023, 8, 24, 0, 0),\n",
              " datetime.datetime(2023, 8, 25, 0, 0),\n",
              " datetime.datetime(2023, 8, 26, 0, 0),\n",
              " datetime.datetime(2023, 8, 27, 0, 0),\n",
              " datetime.datetime(2023, 8, 28, 0, 0),\n",
              " datetime.datetime(2023, 8, 29, 0, 0),\n",
              " datetime.datetime(2023, 8, 30, 0, 0),\n",
              " datetime.datetime(2023, 8, 31, 0, 0),\n",
              " datetime.datetime(2023, 9, 1, 0, 0),\n",
              " datetime.datetime(2023, 9, 2, 0, 0),\n",
              " datetime.datetime(2023, 9, 3, 0, 0),\n",
              " datetime.datetime(2023, 9, 4, 0, 0),\n",
              " datetime.datetime(2023, 9, 5, 0, 0),\n",
              " datetime.datetime(2023, 9, 6, 0, 0),\n",
              " datetime.datetime(2023, 9, 7, 0, 0),\n",
              " datetime.datetime(2023, 9, 8, 0, 0),\n",
              " datetime.datetime(2023, 9, 9, 0, 0),\n",
              " datetime.datetime(2023, 9, 10, 0, 0),\n",
              " datetime.datetime(2023, 9, 11, 0, 0),\n",
              " datetime.datetime(2023, 9, 12, 0, 0),\n",
              " datetime.datetime(2023, 9, 13, 0, 0),\n",
              " datetime.datetime(2023, 9, 14, 0, 0),\n",
              " datetime.datetime(2023, 9, 15, 0, 0),\n",
              " datetime.datetime(2023, 9, 16, 0, 0),\n",
              " datetime.datetime(2023, 9, 17, 0, 0),\n",
              " datetime.datetime(2023, 9, 18, 0, 0),\n",
              " datetime.datetime(2023, 9, 19, 0, 0),\n",
              " datetime.datetime(2023, 9, 20, 0, 0),\n",
              " datetime.datetime(2023, 9, 21, 0, 0),\n",
              " datetime.datetime(2023, 9, 22, 0, 0),\n",
              " datetime.datetime(2023, 9, 23, 0, 0),\n",
              " datetime.datetime(2023, 9, 24, 0, 0),\n",
              " datetime.datetime(2023, 9, 25, 0, 0),\n",
              " datetime.datetime(2023, 9, 26, 0, 0),\n",
              " datetime.datetime(2023, 9, 27, 0, 0),\n",
              " datetime.datetime(2023, 9, 28, 0, 0),\n",
              " datetime.datetime(2023, 9, 29, 0, 0),\n",
              " datetime.datetime(2023, 9, 30, 0, 0),\n",
              " datetime.datetime(2023, 10, 1, 0, 0),\n",
              " datetime.datetime(2023, 10, 2, 0, 0)]"
            ]
          },
          "metadata": {},
          "execution_count": 16
        }
      ]
    },
    {
      "cell_type": "markdown",
      "source": [
        "## 10. Create 2D list to DataFrame\n",
        "\n",
        "lists = [[1, 'aaa', 22],\n",
        "         [2, 'bbb', 25],\n",
        "         [3, 'ccc', 24]]"
      ],
      "metadata": {
        "id": "ZizSetD-y5az"
      }
    },
    {
      "cell_type": "code",
      "source": [
        "lists = [[1, 'aaa', 22], [2, 'bbb', 25], [3, 'ccc', 24]]"
      ],
      "metadata": {
        "id": "_XMC8aEt0llB"
      },
      "execution_count": null,
      "outputs": []
    },
    {
      "cell_type": "code",
      "source": [
        "df=pd.DataFrame(lists,columns=['no','name','age'])\n",
        "print(df)"
      ],
      "metadata": {
        "id": "knH76sDKYsVX",
        "colab": {
          "base_uri": "https://localhost:8080/"
        },
        "outputId": "84baccb6-e944-4488-8305-6100becb2581"
      },
      "execution_count": null,
      "outputs": [
        {
          "output_type": "stream",
          "name": "stdout",
          "text": [
            "   no name  age\n",
            "0   1  aaa   22\n",
            "1   2  bbb   25\n",
            "2   3  ccc   24\n"
          ]
        }
      ]
    }
  ]
}